{
 "cells": [
  {
   "cell_type": "code",
   "execution_count": 5,
   "id": "59dab544",
   "metadata": {},
   "outputs": [],
   "source": [
    "import numpy as np\n",
    "from scipy.io import loadmat\n",
    "import matplotlib.pyplot as plt\n",
    "\n",
    "import functions\n",
    "import algorithms\n",
    "from optSolverML import optSolverML_Obeid_Mouhamad"
   ]
  },
  {
   "cell_type": "code",
   "execution_count": 6,
   "id": "70bd3b52",
   "metadata": {},
   "outputs": [],
   "source": [
    "## Define three class objects and their attributes (required in 'optSolverML')\n",
    "\n",
    "class Problem:\n",
    "    def __init__(self,name,dataset_name,w0,compute_f,compute_g):\n",
    "        self.name = name\n",
    "        self.dataset_name = dataset_name\n",
    "        self.w0 = w0\n",
    "        self.compute_f = compute_f\n",
    "        self.compute_g = compute_g\n",
    "\n",
    "class Method:\n",
    "    def __init__(self,name,step_type,constant_step_size,batch_size = 1):\n",
    "        self.name = name\n",
    "        self.step_type = step_type\n",
    "        self.constant_step_size = constant_step_size\n",
    "        self.batch_size = batch_size\n",
    "\n",
    "class Options:\n",
    "    def __init__(self, c1 = 1e-4, tau = 0.5): # default values chosen if not specified otherwise\n",
    "        self.c1 = c1\n",
    "        self.tau = tau"
   ]
  },
  {
   "cell_type": "code",
   "execution_count": 7,
   "id": "5219e690",
   "metadata": {},
   "outputs": [],
   "source": [
    "## Instantiate an object in the class as follows:\n",
    "w0 = 0\n",
    "problem = Problem('LS','australian',w0,functions.LS_func,functions.LS_grad)\n",
    "method = Method('GradientDescent','Backtracking',1,3)\n",
    "options = Options(1e-4,0.5) # if using options = Options(), term_tol and max_iterations will set to be default values"
   ]
  },
  {
   "cell_type": "code",
   "execution_count": 11,
   "id": "c581bc6a",
   "metadata": {},
   "outputs": [
    {
     "name": "stdout",
     "output_type": "stream",
     "text": [
      "Final Value of w: -0.0215314814480324\n",
      "Final Value of Ftrain: 0.001771398812106889\n",
      "Final Accuracy Train: 375.0\n",
      "Final Value of Ftest: 0.17857022499035285\n",
      "Final Accuracy Test: 163.0\n"
     ]
    }
   ],
   "source": [
    "## Implement the algorithm on a problem \n",
    "\n",
    "w,f_tr,acc_tr,f_te,acc_te = optSolverML_Obeid_Mouhamad(problem,method,options)\n",
    "print(\"Final Value of w:\", w[0])\n",
    "print(\"Final Value of Ftrain:\", f_tr)\n",
    "print(\"Final Accuracy Train:\", acc_tr)\n",
    "print(\"Final Value of Ftest:\", f_te)\n",
    "print(\"Final Accuracy Test:\", acc_te)"
   ]
  },
  {
   "cell_type": "code",
   "execution_count": null,
   "id": "3fbf9802-6ff9-4667-abf5-d767bec3f7b0",
   "metadata": {},
   "outputs": [],
   "source": [
    "# data = loadmat(f'./data/mushroom.mat')\n",
    "# X = data['X_train']\n",
    "# y = data['y_train']\n",
    "# w0 = np.zeros((X.shape[1],1))\n",
    "\n",
    "# f = loadmat(f'./data/f_star_LR_mushroom.mat')\n",
    "# f_star = f['f_star']\n",
    "# f_star\n",
    "# f_star[0]"
   ]
  },
  {
   "cell_type": "code",
   "execution_count": null,
   "id": "1ccd5b36-e596-4671-bef3-653e5548da11",
   "metadata": {},
   "outputs": [],
   "source": [
    "# ## Plots\n",
    "# w0 = 0\n",
    "# problem = Problem('LR','mushroom',w0,functions.LR_func,functions.LR_grad)\n",
    "# options = Options(1e-4,0.5)\n",
    "\n",
    "# method = Method('GradientDescent','Backtracking',1,1)\n",
    "# w1,f_tr1,acc_tr1,f_te1,acc_te1 = optSolverML_Obeid_Mouhamad(problem,method,options)\n",
    "\n",
    "# method = Method('StochasticGradient','Constant',0.01,100)\n",
    "# w2,f_tr2,acc_tr2,f_te2,acc_te2 = optSolverML_Obeid_Mouhamad(problem,method,options)\n",
    "\n",
    "# method = Method('StochasticGradient','Diminishing',0.5,100)\n",
    "# w3,f_tr3,acc_tr3,f_te3,acc_te3 = optSolverML_Obeid_Mouhamad(problem,method,options)\n",
    "\n",
    "# plt.figure()\n",
    "# plt.plot(np.linspace(0,20,len(acc_te1)), acc_te1, color=\"green\", label = \"GD Backtracking\")\n",
    "# plt.plot(np.linspace(0,20,len(acc_te2)), acc_te2, color=\"blue\", label = \"SG Constant\")\n",
    "# plt.plot(np.linspace(0,20,len(acc_te3)), acc_te3, color=\"red\", label = \"SG Diminishing\")\n",
    "# plt.yscale(\"log\")\n",
    "# plt.xlabel(\"Number of Gradient Evaluation\")\n",
    "# plt.ylabel(\"Testing Accuracy\") # Ftrain(wk) - F*, Ftest(wk), Training Accuracy, Testing Accuracy\n",
    "# plt.title(\"Comparison of Optimization Methods\")\n",
    "# plt.legend()\n",
    "# plt.show()"
   ]
  },
  {
   "cell_type": "code",
   "execution_count": null,
   "id": "299e99ec-7f41-433f-8d3d-153ea93b3cf6",
   "metadata": {},
   "outputs": [],
   "source": [
    "# ## Plots\n",
    "# w0 = 0\n",
    "# problem = Problem('LR','mushroom',w0,functions.LR_func,functions.LR_grad)\n",
    "# options = Options(1e-4,0.5)\n",
    "\n",
    "# method = Method('StochasticGradient','Constant',0.001,100)\n",
    "# w1,f_tr1,acc_tr1,f_te1,acc_te1 = optSolverML_Obeid_Mouhamad(problem,method,options)\n",
    "\n",
    "# method = Method('StochasticGradient','Diminishing',0.5,100)\n",
    "# w2,f_tr2,acc_tr2,f_te2,acc_te2 = optSolverML_Obeid_Mouhamad(problem,method,options)\n",
    "\n",
    "# method = Method('StochasticGradient','Backtracking',0.3,100)\n",
    "# w3,f_tr3,acc_tr3,f_te3,acc_te3 = optSolverML_Obeid_Mouhamad(problem,method,options)\n",
    "\n",
    "\n",
    "# plt.figure()\n",
    "# plt.plot(np.linspace(0,20,len(f_tr1)), f_tr1, color=\"blue\", label = \"SG Constant, alpha=0.001\")\n",
    "# plt.plot(np.linspace(0,20,len(f_tr2)), f_tr2, color=\"red\", label = \"SG Diminishing, alpha=0.5\")\n",
    "# plt.plot(np.linspace(0,20,len(f_tr3)), f_tr3, color=\"yellow\", label = \"SG Backtracking, alpha=1\")\n",
    "# plt.yscale(\"log\")\n",
    "# plt.xlabel(\"Number of Gradient Evaluation\")\n",
    "# plt.ylabel(\"Ftrain(wk) - F*\") # Ftrain(wk) - F*, Ftest(wk), Training Accuracy, Testing Accuracy\n",
    "# plt.title(\"Comparison of Optimization Methods (LS Function)\")\n",
    "# plt.legend()\n",
    "# plt.show()"
   ]
  }
 ],
 "metadata": {
  "kernelspec": {
   "display_name": "Python 3 (ipykernel)",
   "language": "python",
   "name": "python3"
  },
  "language_info": {
   "codemirror_mode": {
    "name": "ipython",
    "version": 3
   },
   "file_extension": ".py",
   "mimetype": "text/x-python",
   "name": "python",
   "nbconvert_exporter": "python",
   "pygments_lexer": "ipython3",
   "version": "3.9.13"
  }
 },
 "nbformat": 4,
 "nbformat_minor": 5
}
